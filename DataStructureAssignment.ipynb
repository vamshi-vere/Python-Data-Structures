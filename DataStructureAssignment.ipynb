{
  "nbformat": 4,
  "nbformat_minor": 0,
  "metadata": {
    "colab": {
      "provenance": []
    },
    "kernelspec": {
      "name": "python3",
      "display_name": "Python 3"
    },
    "language_info": {
      "name": "python"
    }
  },
  "cells": [
    {
      "cell_type": "markdown",
      "source": [
        "#  1. What are data structures, and why are they important\n",
        " - data structures are special ways to manage the data , store the data, and acccess of manipulation of the data which enable faster processing . It is important because they allow programmers to manage large data sets effectively\n",
        "\n",
        "# 2. Explain the difference between mutable and immutable data types with examples\n",
        "- mutability refers to the concept of change of the data/data structure again after initialization wherea as immutaility is that we modify the data\n",
        "Ex. mutable - lists , dictionaries\n",
        "    immutable - tuples , strings\n",
        "# 3.What are the main differences between lists and tuples in Python3\n",
        "  - The main differences is that list can be modified after initializaion but tuple can't be modified\n",
        "    - l1 = [2,3,4,5]\n",
        "     - l1[0] = 9\n",
        "     - now l1 = [9,3,4,5]\n",
        "    -  but t1 = (1,2,3)\n",
        "     - t1[0] = 9\n",
        "     - print(t1) gives an error\n",
        "# 4. Describe how dictionaries store data\n",
        "  - Dictionaries store the data in the form of Key and Value form\n",
        "    - i.e for the value there will be a key by which we can access the value\n",
        "    - Ex. d = {\"state\" : \"capital\" }\n",
        "# 5. Why might you use a set instead of a list in Python3\n",
        "  - We use set instead of a list when we only need the unique elements or  unique no of elements present in that specific list\n",
        "  - Ex. l = [1,1,1,2,2,3,3,4,4,4,4,4,5,5]\n",
        "  - now s = set(l)\n",
        "  - prints [1,2,3,4,5]\n",
        "\n",
        "#6.  What is a string in Python, and how is it different from a list\n",
        "  - String is immutable sequence of characters to represent any text where as list is mutable , an ordered sequence of items and can store any form of data\n",
        "  - ex.   s = \"pw skills\"\n",
        "  - l = [ 2 , 2.5 , True , \"pw\" , 3 + 5j ]\n",
        "#7 .How do tuples ensure data integrity in Python\n",
        "  - Tuple in python ensure data integrity through it's immutability this means that once a tuple is declared / created , its elements can not be changed , added or removed\n",
        "#8.  What is a hash table, and how does it relate to dictionaries in Python\n",
        "#9. Can lists contain different data types in Python3\n",
        "  - Yes lists in python store  different data types\n",
        "  - Ex.l = [ 2 , 2.5 , True , \"pw\" , 3 + 5j ]\n",
        "#10 . Explain why strings are immutable in Python\n",
        "  - Strings are immutable in python because of security purpose and thread safety\n",
        "\n",
        "#11. What advantages do dictionaries offer over lists for certain tasks\n",
        "  - dictionaries offer very fast retrieval of the data  and also non-sequence data in O(1) time than a list which takes O(n) {n is size of the list} by its key - value pairs\n",
        "#12.  Describe a scenario where using a tuple would be preferable over a list\n",
        "  - When we the  user to just see the data we use tuple but when we allow the  user to manipulate the data we shall use list\n",
        "#13.  How do sets handle duplicate values in Python\n",
        "  - sets do  not accept the addition of the of any existing element in it\n",
        "  - the attempt of addition of any existing element is simply ignored by the set\n",
        "  - s = {1,2,3,3}\n",
        "  - print(s)\n",
        "  - it prints {1,2,3}\n",
        "  - s.add(2)\n",
        "  - print(s)\n",
        "  - {1,2,3} there is no change in the set as it simply ignored the addition of existing element\n",
        "#14 . How does the “in” keyword work differently for lists and dictionaries\n",
        "   - \"In\" keyword works diiferently for lists and dictionaries\n",
        "   - for lists it , the in keyword , checks specific element belongs/exists in the list\n",
        "   - for dictionaries it checks that a specific key is present in the provided dictionary\n",
        "   -Ex. ls = [1,2,3]\n",
        "   - print(1 in ls) >> prints true as element/data is present in the given list\n",
        "   - dc = { \"pen\" : 2, \"books\" : 3 }\n",
        "   - print(\"pen\" in dc ) >> prints true as element/data is present in the given dictionary\n",
        "#15.  Can you modify the elements of a tuple? Explain why or why not\n",
        "  - We can not modify the elements of a tuple because of data integrity and performance\n",
        "#16. What is a nested dictionary, and give an example of its use case\n",
        "   - Nested dictionary in python is a dictionary that takes another dictionary as a value for a specific key in the main dictoinary\n",
        "   - Ex. details of students in university\n",
        "   - dc = { \"CSE\" : {\"name\" : \"rahul\" , \"roll no\" : 234 , \"Year of study\" : 3} }\n",
        "   - when we call dc[\"CSE\"] it prints all information of the CSE student\n",
        "#17. Describe the time complexity of accessing elements in a dictionary\n",
        "  - time complexity of accessing elements in dictionary is O(1) i.e constant because by just calling element by Key we can access the element in very fast time\n",
        "#18.  In what situations are lists preferred over dictionaries\n",
        "  - lists are preferred over dictionaries where order of elements  is important and elements needs to be accessed by their indicies/ numerical positions\n",
        "#19. Why are dictionaries considered unordered, and how does that affect data retrieval\n",
        "  -The \"unordered\" nature means that data retrieval depends on the key, not its position, which affects applications that require sequential data processing.\n",
        "#20. Explain the difference between a list and a dictionary in terms of data retrieval.\n",
        "  - list is index-based retrieval where as dictionary is key-based retrieval\n",
        "\n",
        "\n",
        "\n",
        "\n",
        "\n",
        "\n",
        "\n",
        "\n",
        "\n",
        "\n",
        "\n",
        "\n",
        "\n",
        "\n"
      ],
      "metadata": {
        "id": "kEzCSvs3OqQX"
      }
    },
    {
      "cell_type": "markdown",
      "source": [
        "# practical Questions"
      ],
      "metadata": {
        "id": "KY77ovHrUBFV"
      }
    },
    {
      "cell_type": "code",
      "source": [
        "#1.Write a code to create a string with your name and print it\n",
        "name = \"rahul\"\n",
        "print(name)"
      ],
      "metadata": {
        "id": "Bf1rMqd4Xu4C",
        "colab": {
          "base_uri": "https://localhost:8080/"
        },
        "outputId": "1c3cc097-499e-4ed6-8f78-0e4b4662f107"
      },
      "execution_count": 1,
      "outputs": [
        {
          "output_type": "stream",
          "name": "stdout",
          "text": [
            "rahul\n"
          ]
        }
      ]
    },
    {
      "cell_type": "code",
      "source": [
        "#2. Write a code to find the length of the string \"Hello World\"\n",
        "s = \"Hello World\"\n",
        "print(len(s))\n"
      ],
      "metadata": {
        "id": "kztrsv2TjBeT",
        "colab": {
          "base_uri": "https://localhost:8080/"
        },
        "outputId": "e1c4dc26-cf7f-47f1-d386-ebd43fe10f59"
      },
      "execution_count": 2,
      "outputs": [
        {
          "output_type": "stream",
          "name": "stdout",
          "text": [
            "11\n"
          ]
        }
      ]
    },
    {
      "cell_type": "code",
      "source": [
        "#3. Write a code to slice the first 3 characters from the string \"Python Programming\"\n",
        "s = \"Python Programming\"\n",
        "print(s[0:3])\n"
      ],
      "metadata": {
        "id": "FiIwrSASjBa2",
        "colab": {
          "base_uri": "https://localhost:8080/"
        },
        "outputId": "ca254b10-8dcd-46ab-ccc0-249a8b54cc2e"
      },
      "execution_count": 3,
      "outputs": [
        {
          "output_type": "stream",
          "name": "stdout",
          "text": [
            "Pyt\n"
          ]
        }
      ]
    },
    {
      "cell_type": "code",
      "source": [
        "#4.Write a code to convert the string \"hello\" to uppercase\n",
        "s = \"hello\"\n",
        "print(s.upper())"
      ],
      "metadata": {
        "id": "9B4QDuE8jBYE",
        "colab": {
          "base_uri": "https://localhost:8080/"
        },
        "outputId": "864a7e0c-eafc-4140-eaa5-00680157a50d"
      },
      "execution_count": 4,
      "outputs": [
        {
          "output_type": "stream",
          "name": "stdout",
          "text": [
            "HELLO\n"
          ]
        }
      ]
    },
    {
      "cell_type": "code",
      "source": [
        "#5.Write a code to replace the word \"apple\" with \"orange\" in the string \"I like apple\"\n",
        "s = \"I like apple\"\n",
        "print(s.replace(\"apple\" , \"orange\"))\n"
      ],
      "metadata": {
        "id": "cu0RkySRjBVR",
        "colab": {
          "base_uri": "https://localhost:8080/"
        },
        "outputId": "5ee86513-1f0d-4b14-91da-4270dc544e02"
      },
      "execution_count": 5,
      "outputs": [
        {
          "output_type": "stream",
          "name": "stdout",
          "text": [
            "I like orange\n"
          ]
        }
      ]
    },
    {
      "cell_type": "code",
      "source": [
        "#6.Write a code to create a list with numbers 1 to 5 and print it\n",
        "l = [1,2,3,4,5]\n",
        "print(l)\n"
      ],
      "metadata": {
        "id": "ZMVeSeltjBQn",
        "colab": {
          "base_uri": "https://localhost:8080/"
        },
        "outputId": "9523baaa-38d3-4dc8-e6f1-3fb9c89b863e"
      },
      "execution_count": 6,
      "outputs": [
        {
          "output_type": "stream",
          "name": "stdout",
          "text": [
            "[1, 2, 3, 4, 5]\n"
          ]
        }
      ]
    },
    {
      "cell_type": "code",
      "source": [
        "#7. Write a code to append the number 10 to the list [1, 2, 3, 4]\n",
        "l = [1,2,3,4]\n",
        "l.append(10)\n",
        "print(l)\n"
      ],
      "metadata": {
        "id": "YSP_3zu9jBMo",
        "colab": {
          "base_uri": "https://localhost:8080/"
        },
        "outputId": "2d2e27cc-0f45-4544-c19c-e5fbe282f955"
      },
      "execution_count": 7,
      "outputs": [
        {
          "output_type": "stream",
          "name": "stdout",
          "text": [
            "[1, 2, 3, 4, 10]\n"
          ]
        }
      ]
    },
    {
      "cell_type": "code",
      "source": [
        "#8.Write a code to remove the number 3 from the list [1, 2, 3, 4, 5]\n",
        "l = [1,2,3,4,5]\n",
        "l.remove(3)\n",
        "print(l)\n"
      ],
      "metadata": {
        "id": "Hm3ukNbMjBKi",
        "colab": {
          "base_uri": "https://localhost:8080/"
        },
        "outputId": "e451576d-72dc-4d59-9287-baf25fb12eb4"
      },
      "execution_count": 8,
      "outputs": [
        {
          "output_type": "stream",
          "name": "stdout",
          "text": [
            "[1, 2, 4, 5]\n"
          ]
        }
      ]
    },
    {
      "cell_type": "code",
      "source": [
        "#9. Write a code to access the second element in the list ['a', 'b', 'c', 'd']\n",
        "l = ['a', 'b', 'c', 'd']\n",
        "print(l[1])\n",
        "\n"
      ],
      "metadata": {
        "id": "FZI-3qz3jBGT",
        "colab": {
          "base_uri": "https://localhost:8080/"
        },
        "outputId": "0fb934a6-3881-4337-82ca-da72a219fac3"
      },
      "execution_count": 10,
      "outputs": [
        {
          "output_type": "stream",
          "name": "stdout",
          "text": [
            "b\n"
          ]
        }
      ]
    },
    {
      "cell_type": "code",
      "source": [
        "#10. Write a code to reverse the list [10, 20, 30, 40, 50].\n",
        "l = [10, 20, 30, 40, 50]\n",
        "print(l[::-1])"
      ],
      "metadata": {
        "id": "RS50jWsWjBAN",
        "colab": {
          "base_uri": "https://localhost:8080/"
        },
        "outputId": "1c57bc2f-1ce7-4057-cb33-54e8b4af5c58"
      },
      "execution_count": 11,
      "outputs": [
        {
          "output_type": "stream",
          "name": "stdout",
          "text": [
            "[50, 40, 30, 20, 10]\n"
          ]
        }
      ]
    },
    {
      "cell_type": "code",
      "source": [
        "#11. Write a code to create a tuple with the elements 100, 200, 300 and print it.\n",
        "t = (100,200,300)\n",
        "print(t)"
      ],
      "metadata": {
        "id": "hQ3d7MyTjA98",
        "colab": {
          "base_uri": "https://localhost:8080/"
        },
        "outputId": "d35fadff-9cb6-4d0c-8016-02355389c410"
      },
      "execution_count": 13,
      "outputs": [
        {
          "output_type": "stream",
          "name": "stdout",
          "text": [
            "(100, 200, 300)\n"
          ]
        }
      ]
    },
    {
      "cell_type": "code",
      "source": [
        "#12. Write a code to access the second-to-last element of the tuple ('red', 'green', 'blue', 'yellow').\n",
        "t = ('red', 'green', 'blue', 'yellow')\n",
        "print(t[-2])"
      ],
      "metadata": {
        "id": "UnBELxxCjA7m",
        "colab": {
          "base_uri": "https://localhost:8080/"
        },
        "outputId": "11a1ff09-90a5-4fe1-814a-64660f2c8bf7"
      },
      "execution_count": 14,
      "outputs": [
        {
          "output_type": "stream",
          "name": "stdout",
          "text": [
            "blue\n"
          ]
        }
      ]
    },
    {
      "cell_type": "code",
      "source": [
        "#13. Write a code to find the minimum number in the tuple (10, 20, 5, 15).\n",
        "t = (10, 20, 5, 15)\n",
        "print(min(t))"
      ],
      "metadata": {
        "id": "BRr52ek9jA12",
        "colab": {
          "base_uri": "https://localhost:8080/"
        },
        "outputId": "d5580c57-5ed5-4cf1-8ae7-7201fa4245db"
      },
      "execution_count": 15,
      "outputs": [
        {
          "output_type": "stream",
          "name": "stdout",
          "text": [
            "5\n"
          ]
        }
      ]
    },
    {
      "cell_type": "code",
      "source": [
        "#14. Write a code to find the index of the element \"cat\" in the tuple ('dog', 'cat', 'rabbit').\n",
        "t = ('dog', 'cat', 'rabbit')\n",
        "print(t.index(\"cat\"))"
      ],
      "metadata": {
        "id": "4Q1VXZ9mjAz3",
        "colab": {
          "base_uri": "https://localhost:8080/"
        },
        "outputId": "1c3b355b-4913-446c-9c4f-059e4c8a5e88"
      },
      "execution_count": 17,
      "outputs": [
        {
          "output_type": "stream",
          "name": "stdout",
          "text": [
            "1\n"
          ]
        }
      ]
    },
    {
      "cell_type": "code",
      "source": [
        "#15. Write a code to create a tuple containing three different fruits and check if \"kiwi\" is in it.\n",
        "t = (\"apple\" , \"banana\" , \"kiwi\")\n",
        "print(\"kiwi\" in t)"
      ],
      "metadata": {
        "id": "vMK8E-adjAxx",
        "colab": {
          "base_uri": "https://localhost:8080/"
        },
        "outputId": "1674bbd3-b310-45c0-e64b-e8797b4677f8"
      },
      "execution_count": 18,
      "outputs": [
        {
          "output_type": "stream",
          "name": "stdout",
          "text": [
            "True\n"
          ]
        }
      ]
    },
    {
      "cell_type": "code",
      "source": [
        "#16. Write a code to create a set with the elements 'a', 'b', 'c' and print it.\n",
        "s = {\"a\",\"b\",\"c\"}\n",
        "print(s)"
      ],
      "metadata": {
        "id": "DwHbd_78jAvy",
        "colab": {
          "base_uri": "https://localhost:8080/"
        },
        "outputId": "308f9f06-041f-4ba5-8c77-8293a130c539"
      },
      "execution_count": 19,
      "outputs": [
        {
          "output_type": "stream",
          "name": "stdout",
          "text": [
            "{'c', 'a', 'b'}\n"
          ]
        }
      ]
    },
    {
      "cell_type": "code",
      "source": [
        "#17. Write a code to clear all elements from the set {1, 2, 3, 4, 5}.\n",
        "s = {1, 2, 3, 4, 5}\n",
        "s.clear()\n",
        "print(s)"
      ],
      "metadata": {
        "id": "mTZWAwILjAsF",
        "colab": {
          "base_uri": "https://localhost:8080/"
        },
        "outputId": "807e5de8-908d-4cd7-9443-d0d1b6028781"
      },
      "execution_count": 20,
      "outputs": [
        {
          "output_type": "stream",
          "name": "stdout",
          "text": [
            "set()\n"
          ]
        }
      ]
    },
    {
      "cell_type": "code",
      "source": [
        "#18. Write a code to remove the element 4 from the set {1, 2, 3, 4}.\n",
        "s = {1, 2, 3, 4}\n",
        "s.remove(4)\n",
        "print(s)"
      ],
      "metadata": {
        "id": "UUzqh1PojAny",
        "colab": {
          "base_uri": "https://localhost:8080/"
        },
        "outputId": "003b4237-196b-46d9-a342-e22d545e5679"
      },
      "execution_count": 21,
      "outputs": [
        {
          "output_type": "stream",
          "name": "stdout",
          "text": [
            "{1, 2, 3}\n"
          ]
        }
      ]
    },
    {
      "cell_type": "code",
      "source": [
        "#19. Write a code to find the union of two sets {1, 2, 3} and {3, 4, 5}.\n",
        "s1 = {1, 2, 3}\n",
        "s2 = {3, 4, 5}\n",
        "print(s1.union(s2))"
      ],
      "metadata": {
        "id": "7QJwSR9ZjAlF",
        "colab": {
          "base_uri": "https://localhost:8080/"
        },
        "outputId": "15df0923-befe-47ba-98ff-0418e2774c57"
      },
      "execution_count": 23,
      "outputs": [
        {
          "output_type": "stream",
          "name": "stdout",
          "text": [
            "{1, 2, 3, 4, 5}\n"
          ]
        }
      ]
    },
    {
      "cell_type": "code",
      "source": [
        "#20. Write a code to find the intersection of two sets {1, 2, 3} and {2, 3, 4}.\n",
        "s1 = {1, 2, 3}\n",
        "s2 = {2, 3, 4}\n",
        "print(s1.intersection(s2))"
      ],
      "metadata": {
        "id": "KMeThfVtjAi5",
        "colab": {
          "base_uri": "https://localhost:8080/"
        },
        "outputId": "7831e712-e276-49d0-fdfa-b57e52e0fdf5"
      },
      "execution_count": 24,
      "outputs": [
        {
          "output_type": "stream",
          "name": "stdout",
          "text": [
            "{2, 3}\n"
          ]
        }
      ]
    },
    {
      "cell_type": "code",
      "source": [
        "#21. Write a code to create a dictionary with the keys \"name\", \"age\", and \"city\", and print it.\n",
        "dc = {\"name\" : \"rahul\" , \"age\" : 20 , \"city\" : \"delhi\"}\n",
        "print(dc)"
      ],
      "metadata": {
        "id": "Sc7CUEU-jAey",
        "colab": {
          "base_uri": "https://localhost:8080/"
        },
        "outputId": "5d0b25bd-5e77-408a-9b1d-4002be7b60e4"
      },
      "execution_count": 25,
      "outputs": [
        {
          "output_type": "stream",
          "name": "stdout",
          "text": [
            "{'name': 'rahul', 'age': 20, 'city': 'delhi'}\n"
          ]
        }
      ]
    },
    {
      "cell_type": "code",
      "source": [
        "#22. Write a code to add a new key-value pair \"country\": \"USA\" to the dictionary {'name': 'John', 'age': 25}.\n",
        "dc = {'name': 'John', 'age': 25}\n",
        "dc[\"country\"] = \"USA\"\n",
        "print(dc)"
      ],
      "metadata": {
        "id": "IwCxxwGajAcy",
        "colab": {
          "base_uri": "https://localhost:8080/"
        },
        "outputId": "7a7acd94-b59c-4a74-eba7-33ce24df6a81"
      },
      "execution_count": 26,
      "outputs": [
        {
          "output_type": "stream",
          "name": "stdout",
          "text": [
            "{'name': 'John', 'age': 25, 'country': 'USA'}\n"
          ]
        }
      ]
    },
    {
      "cell_type": "code",
      "source": [
        "#23. Write a code to access the value associated with the key \"name\" in the dictionary {'name': 'Alice', 'age': 30}.\n",
        "dc = {'name': 'Alice', 'age': 30}\n",
        "print(dc[\"name\"])"
      ],
      "metadata": {
        "id": "rHOlHTaFjAWz",
        "colab": {
          "base_uri": "https://localhost:8080/"
        },
        "outputId": "826ee7b4-47ec-4949-e18c-f61db4729922"
      },
      "execution_count": 27,
      "outputs": [
        {
          "output_type": "stream",
          "name": "stdout",
          "text": [
            "Alice\n"
          ]
        }
      ]
    },
    {
      "cell_type": "code",
      "source": [
        "#24. Write a code to remove the key \"age\" from the dictionary {'name': 'Bob', 'age': 22, 'city': 'New York'}.\n",
        "dc = {'name': 'Bob', 'age': 22, 'city': 'New York'}\n",
        "dc.pop(\"age\")\n",
        "print(dc)"
      ],
      "metadata": {
        "id": "VTqmQjfWjANk",
        "colab": {
          "base_uri": "https://localhost:8080/"
        },
        "outputId": "7f2e50ca-f0da-4035-9f10-544199df7df8"
      },
      "execution_count": 28,
      "outputs": [
        {
          "output_type": "stream",
          "name": "stdout",
          "text": [
            "{'name': 'Bob', 'city': 'New York'}\n"
          ]
        }
      ]
    },
    {
      "cell_type": "code",
      "source": [
        "#25. Write a code to check if the key \"city\" exists in the dictionary {'name': 'Alice', 'city': 'Paris'}.\n",
        "dc = {'name': 'Alice', 'city': 'Paris'}\n",
        "print(\"city\" in dc)"
      ],
      "metadata": {
        "id": "UWwt__0DjALo",
        "colab": {
          "base_uri": "https://localhost:8080/"
        },
        "outputId": "2772d2cb-7e4f-4fde-b2db-a99e300a5659"
      },
      "execution_count": 29,
      "outputs": [
        {
          "output_type": "stream",
          "name": "stdout",
          "text": [
            "True\n"
          ]
        }
      ]
    },
    {
      "cell_type": "code",
      "source": [
        "#26. Write a code to create a list, a tuple, and a dictionary, and print them all.\n",
        "l = [1,2,3,4]\n",
        "t = (1,2,3,4)\n",
        "dc = {\"name\" : \"rahul\" , \"age\" : 20 , \"city\" : \"delhi\"}\n",
        "print(l  ,  t  ,  dc)"
      ],
      "metadata": {
        "id": "-awxuXA9jAJs",
        "colab": {
          "base_uri": "https://localhost:8080/"
        },
        "outputId": "03b1723b-8126-4c4d-bb34-72472a2b6918"
      },
      "execution_count": 32,
      "outputs": [
        {
          "output_type": "stream",
          "name": "stdout",
          "text": [
            "[1, 2, 3, 4] (1, 2, 3, 4) {'name': 'rahul', 'age': 20, 'city': 'delhi'}\n"
          ]
        }
      ]
    },
    {
      "cell_type": "code",
      "source": [
        "#27. Write a code to create a list of 5 random numbers between 1 and 100, sort it in ascending order, and print the result.(replaced)\n",
        "import random\n",
        "l = []\n",
        "for i in range(5):\n",
        "    l.append(random.randint(1,100))\n",
        "l.sort()\n",
        "print(l)"
      ],
      "metadata": {
        "id": "fnql-FA9jAHu",
        "colab": {
          "base_uri": "https://localhost:8080/"
        },
        "outputId": "23dd432e-c379-43e3-dc0d-722a83b96200"
      },
      "execution_count": 33,
      "outputs": [
        {
          "output_type": "stream",
          "name": "stdout",
          "text": [
            "[20, 42, 74, 86, 86]\n"
          ]
        }
      ]
    },
    {
      "cell_type": "code",
      "source": [
        "#28. Write a code to create a list with strings and print the element at the third index.\n",
        "l = [\"apple\" , \"banana\" , \"kiwi\" , \"mango\"]\n",
        "print(l[2])\n"
      ],
      "metadata": {
        "id": "ZNm7WepxjAFw",
        "colab": {
          "base_uri": "https://localhost:8080/"
        },
        "outputId": "1532d8d0-efd3-46bd-ab90-639fe9cd9d0a"
      },
      "execution_count": 34,
      "outputs": [
        {
          "output_type": "stream",
          "name": "stdout",
          "text": [
            "kiwi\n"
          ]
        }
      ]
    },
    {
      "cell_type": "code",
      "source": [
        "#29. Write a code to combine two dictionaries into one and print the result.\n",
        "dc1 = {\"name\" : \"rahul\" , \"age\" : 20 , \"city\" : \"delhi\"}\n",
        "dc2 = {\"name\" : \"vere\" , \"age\" : 22 , \"city\" : \"delhi\"}\n",
        "dc1.update(dc2)\n",
        "print(dc1)\n"
      ],
      "metadata": {
        "id": "Pr4Q49VCjABc",
        "colab": {
          "base_uri": "https://localhost:8080/"
        },
        "outputId": "0c5a1449-b460-400f-f123-a02c180ad91f"
      },
      "execution_count": 39,
      "outputs": [
        {
          "output_type": "stream",
          "name": "stdout",
          "text": [
            "{'name': 'vere', 'age': 22, 'city': 'delhi'}\n"
          ]
        }
      ]
    },
    {
      "cell_type": "code",
      "source": [
        "#30. Write a code to convert a list of strings into a set.\n",
        "l = [\"apple\" ,\"apple\",\"banana\" , \"kiwi\" , \"mango\"]\n",
        "s = set(l)\n",
        "print(l)\n",
        "print(s)"
      ],
      "metadata": {
        "id": "Xr3P_z79i__A",
        "colab": {
          "base_uri": "https://localhost:8080/"
        },
        "outputId": "9d88daa7-9d93-4fe4-98b4-5b45405d062b"
      },
      "execution_count": 42,
      "outputs": [
        {
          "output_type": "stream",
          "name": "stdout",
          "text": [
            "['apple', 'apple', 'banana', 'kiwi', 'mango']\n",
            "{'mango', 'banana', 'apple', 'kiwi'}\n"
          ]
        }
      ]
    }
  ]
}